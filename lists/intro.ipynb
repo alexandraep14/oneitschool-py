{
 "cells": [
  {
   "cell_type": "code",
   "execution_count": 1,
   "metadata": {
    "collapsed": true
   },
   "outputs": [
    {
     "data": {
      "text/plain": "[1, 2, 3]"
     },
     "execution_count": 1,
     "metadata": {},
     "output_type": "execute_result"
    }
   ],
   "source": [
    "[1,2,3]"
   ]
  },
  {
   "cell_type": "code",
   "execution_count": 3,
   "outputs": [
    {
     "name": "stdout",
     "output_type": "stream",
     "text": [
      "[1, 2, 3]\n"
     ]
    }
   ],
   "source": [
    "a = [1,2,3]\n",
    "print(a)\n"
   ],
   "metadata": {
    "collapsed": false,
    "pycharm": {
     "name": "#%%\n"
    }
   }
  },
  {
   "cell_type": "code",
   "execution_count": 7,
   "outputs": [
    {
     "name": "stdout",
     "output_type": "stream",
     "text": [
      "[]\n",
      "after appending: [3]\n",
      "after second append: [3, 4]\n"
     ]
    }
   ],
   "source": [
    "# TODO In Python we don't have varaible that are not objects\n",
    "#  so even the lists have methods\n",
    "\n",
    "# start a list:\n",
    "a = []\n",
    "print(a)\n",
    "# add items to a list:\n",
    "a.append(3)\n",
    "print('after appending:', a)\n",
    "a.append(4)\n",
    "print('after second append:', a)"
   ],
   "metadata": {
    "collapsed": false,
    "pycharm": {
     "name": "#%%\n"
    }
   }
  },
  {
   "cell_type": "code",
   "execution_count": 15,
   "outputs": [
    {
     "name": "stdout",
     "output_type": "stream",
     "text": [
      "3 4 5 \n",
      "3 4 5 "
     ]
    }
   ],
   "source": [
    "# TODO how do we iterate the list?\n",
    "\n",
    "# 1. by position:\n",
    "# we need the length of the list:\n",
    "a = [3,4,5]\n",
    "# print(len(a))  # len este o functie globala, folosita pt a afla lungimea unei liste\n",
    "\n",
    "for i in range(len(a)):\n",
    "    print(a[i], end=' ')\n",
    "print()\n",
    "\n",
    "# 2. iterate the whole list, item by item (foreach, but not as a keyword)\n",
    "for item in a:  # este ca   for (char c : s)   in C++\n",
    "    print(item, end=' ')  # este ca si cum ai afisa a din varianta 1"
   ],
   "metadata": {
    "collapsed": false,
    "pycharm": {
     "name": "#%%\n"
    }
   }
  },
  {
   "cell_type": "code",
   "execution_count": 22,
   "outputs": [
    {
     "name": "stdout",
     "output_type": "stream",
     "text": [
      "range(0, 3)\n",
      "0\n",
      "1\n",
      "2\n",
      "a\n",
      "b\n",
      "c\n"
     ]
    }
   ],
   "source": [
    "# list is an iterable type, meaning that we can write\n",
    "#  for variable_name in list_of_type_variable:\n",
    "\n",
    "# range este tot un tip in Python , si tot unul iterabil\n",
    "print(range(3))\n",
    "for i in range(3):\n",
    "    print(i)\n",
    "# str este tot un tip iterabil in Python\n",
    "for c in 'abc':\n",
    "    print(c)"
   ],
   "metadata": {
    "collapsed": false,
    "pycharm": {
     "name": "#%%\n"
    }
   }
  },
  {
   "cell_type": "code",
   "execution_count": 26,
   "outputs": [
    {
     "name": "stdout",
     "output_type": "stream",
     "text": [
      "[]\n",
      "[0, 1, 2]\n",
      "['a', 'b', 'c']\n"
     ]
    }
   ],
   "source": [
    "# TODO facultativ, dar daca vezi si apelul list,\n",
    "#  inseamna tot crearea unei liste, dar din alta variabila iterabila:\n",
    "\n",
    "print(list())\n",
    "print(list(range(3)))\n",
    "print(list('abc'))"
   ],
   "metadata": {
    "collapsed": false,
    "pycharm": {
     "name": "#%%\n"
    }
   }
  },
  {
   "cell_type": "code",
   "execution_count": 33,
   "outputs": [
    {
     "name": "stdout",
     "output_type": "stream",
     "text": [
      "-2\n",
      "12\n",
      "[-2, 10, 12]\n",
      "<list_reverseiterator object at 0x7ff7b8aa5250>\n",
      "3\n",
      "[(0, 12), (1, -2), (2, 10)]\n"
     ]
    }
   ],
   "source": [
    "# exista multe functii utile in Python pe care le putem folosi pt liste:\n",
    "a = [12,-2,10]\n",
    "\n",
    "print(min(a), max(a), sum(a), sorted(a), reversed(a), len(a), enumerate(a), sep='\\n')"
   ],
   "metadata": {
    "collapsed": false,
    "pycharm": {
     "name": "#%%\n"
    }
   }
  },
  {
   "cell_type": "code",
   "execution_count": 37,
   "outputs": [
    {
     "data": {
      "text/plain": "1"
     },
     "execution_count": 37,
     "metadata": {},
     "output_type": "execute_result"
    }
   ],
   "source": [
    "# metode utile:\n",
    "a.count(-2)\n"
   ],
   "metadata": {
    "collapsed": false,
    "pycharm": {
     "name": "#%%\n"
    }
   }
  },
  {
   "cell_type": "code",
   "execution_count": 43,
   "outputs": [
    {
     "name": "stdout",
     "output_type": "stream",
     "text": [
      "['a', 'b', 'c']\n",
      "10 2 3\n",
      "['10', '2', '3']\n",
      "[10, 2, 3]\n"
     ]
    }
   ],
   "source": [
    "# Ce este nevoie sa stii pt a citi o lista de pe o singura linie de pe consola\n",
    "print('a b c'.split(' '))\n",
    "\n",
    "linie = input() # ia o intreaga linie de pe consola => un str\n",
    "print(linie)\n",
    "print(linie.split(' '))\n",
    "\n",
    "lista = []\n",
    "for s in linie.split(' '):\n",
    "    lista.append(int(s))\n",
    "print(lista)"
   ],
   "metadata": {
    "collapsed": false,
    "pycharm": {
     "name": "#%%\n"
    }
   }
  }
 ],
 "metadata": {
  "kernelspec": {
   "display_name": "Python 3",
   "language": "python",
   "name": "python3"
  },
  "language_info": {
   "codemirror_mode": {
    "name": "ipython",
    "version": 2
   },
   "file_extension": ".py",
   "mimetype": "text/x-python",
   "name": "python",
   "nbconvert_exporter": "python",
   "pygments_lexer": "ipython2",
   "version": "2.7.6"
  }
 },
 "nbformat": 4,
 "nbformat_minor": 0
}